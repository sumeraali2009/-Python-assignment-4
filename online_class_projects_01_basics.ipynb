{
  "nbformat": 4,
  "nbformat_minor": 0,
  "metadata": {
    "colab": {
      "provenance": [],
      "authorship_tag": "ABX9TyO7+hz6bwSirgoCYpHfbdS0",
      "include_colab_link": true
    },
    "kernelspec": {
      "name": "python3",
      "display_name": "Python 3"
    },
    "language_info": {
      "name": "python"
    }
  },
  "cells": [
    {
      "cell_type": "markdown",
      "metadata": {
        "id": "view-in-github",
        "colab_type": "text"
      },
      "source": [
        "<a href=\"https://colab.research.google.com/github/sumeraali2009/-Python-assignment-4/blob/main/online_class_projects_01_basics.ipynb\" target=\"_parent\"><img src=\"https://colab.research.google.com/assets/colab-badge.svg\" alt=\"Open In Colab\"/></a>"
      ]
    },
    {
      "cell_type": "code",
      "source": [],
      "metadata": {
        "id": "qYNKIN-SWIDQ"
      },
      "execution_count": null,
      "outputs": []
    },
    {
      "cell_type": "code",
      "source": [
        "import random\n",
        "\n",
        "def joke_bot():\n",
        "    jokes = [\n",
        "\n",
        "        \"Why don’t skeletons fight each other? They don’t have the guts! ☠️\",\n",
        "        \"What do you call fake spaghetti? An *impasta*! 🍝\",\n",
        "        \"I used to play piano by ear, but now I use my hands. 🎹😂\"\n",
        "    ]\n",
        "\n",
        "    print(\"Hi! What would you like?\")\n",
        "    user_input = input(\"Type here: \")\n",
        "\n",
        "    if user_input.lower() == \"joke\":\n",
        "        print(random.choice(jokes))\n",
        "    else:\n",
        "        print(\"Sorry, I can only tell jokes. Try typing 'Joke'.\")\n",
        "\n",
        "joke_bot()\n"
      ],
      "metadata": {
        "id": "jqWZpGcsU5G9",
        "colab": {
          "base_uri": "https://localhost:8080/"
        },
        "outputId": "86bf3234-f349-4fbb-878f-85e265669d65"
      },
      "execution_count": null,
      "outputs": [
        {
          "output_type": "stream",
          "name": "stdout",
          "text": [
            "Hi! What would you like?\n",
            "Type here: jokes\n",
            "Sorry, I can only tell jokes. Try typing 'Joke'.\n"
          ]
        }
      ]
    },
    {
      "cell_type": "code",
      "source": [
        "def liftoff_countdown():\n",
        "    for i in range(10):\n",
        "        print(10 - i)\n",
        "    print(\"Liftoff!\")\n",
        "\n",
        "if __name__ == \"__main__\":\n",
        "    liftoff_countdown()\n",
        "\n",
        "\n"
      ],
      "metadata": {
        "id": "noOwIk-SWmFG",
        "colab": {
          "base_uri": "https://localhost:8080/"
        },
        "outputId": "832e6890-0726-4623-c96a-50bb432b9944"
      },
      "execution_count": null,
      "outputs": [
        {
          "output_type": "stream",
          "name": "stdout",
          "text": [
            "10\n",
            "9\n",
            "8\n",
            "7\n",
            "6\n",
            "5\n",
            "4\n",
            "3\n",
            "2\n",
            "1\n",
            "Liftoff!\n"
          ]
        }
      ]
    },
    {
      "cell_type": "code",
      "source": [
        "def liftoff_countdown():\n",
        "    for i in range(10):\n",
        "        print(10 - i)\n",
        "    print(\"Liftoff!\")\n",
        "\n",
        "if __name__ == \"__main__\":\n",
        "    liftoff_countdown()\n",
        "\n",
        "\n",
        "import random\n",
        "\n",
        "def guess_my_number():\n",
        "    number_to_guess = random.randint(0, 99)\n",
        "    while True:\n",
        "        try:\n",
        "            guess = int(input(\"Enter a guess: \"))\n",
        "            if guess < number_to_guess:\n",
        "                print(\"Your guess is too low\")\n",
        "            elif guess > number_to_guess:\n",
        "                print(\"Your guess is too high\")\n",
        "            else:\n",
        "                print(f\"Congrats! The number was: {number_to_guess}\")\n",
        "                break\n",
        "        except ValueError:\n",
        "            print(\"Invalid input. Please enter a whole number.\")\n",
        "\n",
        "if __name__ == \"__main__\":\n",
        "    print(\"I am thinking of a number between 0 and 99...\")\n",
        "    guess_my_number()\n",
        "\n",
        "\n"
      ],
      "metadata": {
        "id": "ITtllp9IWsbL",
        "colab": {
          "base_uri": "https://localhost:8080/"
        },
        "outputId": "6c35416f-0d4b-4187-e4e9-53a63190e0a8"
      },
      "execution_count": null,
      "outputs": [
        {
          "output_type": "stream",
          "name": "stdout",
          "text": [
            "10\n",
            "9\n",
            "8\n",
            "7\n",
            "6\n",
            "5\n",
            "4\n",
            "3\n",
            "2\n",
            "1\n",
            "Liftoff!\n",
            "I am thinking of a number between 0 and 99...\n",
            "Enter a guess: 88\n",
            "Your guess is too high\n",
            "Enter a guess: 55\n",
            "Your guess is too low\n",
            "Enter a guess: 98\n",
            "Your guess is too high\n",
            "Enter a guess: 78\n",
            "Your guess is too high\n",
            "Enter a guess: 67\n",
            "Your guess is too high\n",
            "Enter a guess: 45\n",
            "Your guess is too low\n",
            "Enter a guess: 60\n",
            "Your guess is too high\n",
            "Enter a guess: 58\n",
            "Congrats! The number was: 58\n"
          ]
        }
      ]
    },
    {
      "cell_type": "code",
      "source": [
        "import random\n",
        "\n",
        "def main():\n",
        "    for _ in range(10):\n",
        "        print(random.randint(1, 100), end=\" \")\n",
        "\n",
        "if __name__ == \"__main__\":\n",
        "    main()\n"
      ],
      "metadata": {
        "id": "mXg3ufy7W-z-",
        "colab": {
          "base_uri": "https://localhost:8080/"
        },
        "outputId": "ce15f7b2-4585-415b-97ed-5ce6e357006d"
      },
      "execution_count": null,
      "outputs": [
        {
          "output_type": "stream",
          "name": "stdout",
          "text": [
            "27 21 80 50 45 64 68 27 63 14 "
          ]
        }
      ]
    }
  ]
}