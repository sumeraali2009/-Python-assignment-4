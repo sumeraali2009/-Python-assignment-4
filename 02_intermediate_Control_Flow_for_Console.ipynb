{
  "cells": [
    {
      "cell_type": "markdown",
      "metadata": {
        "id": "view-in-github",
        "colab_type": "text"
      },
      "source": [
        "<a href=\"https://colab.research.google.com/github/sumeraali2009/-Python-assignment-4/blob/main/02_intermediate_Control_Flow_for_Console.ipynb\" target=\"_parent\"><img src=\"https://colab.research.google.com/assets/colab-badge.svg\" alt=\"Open In Colab\"/></a>"
      ]
    },
    {
      "cell_type": "code",
      "execution_count": null,
      "metadata": {
        "id": "EvvJR_iJ5r1n"
      },
      "outputs": [],
      "source": []
    },
    {
      "cell_type": "markdown",
      "metadata": {
        "id": "wXNQggIHzgvG"
      },
      "source": [
        "### Control Flow for **Console**\n",
        "\n",
        "```\n",
        "\n",
        "```\n",
        "\n"
      ]
    },
    {
      "cell_type": "code",
      "execution_count": null,
      "metadata": {
        "id": "wi4l2bbY7JNL",
        "colab": {
          "base_uri": "https://localhost:8080/"
        },
        "outputId": "5453d707-ded8-4340-d726-bedeaf59141b"
      },
      "outputs": [
        {
          "output_type": "stream",
          "name": "stdout",
          "text": [
            "Welcome to the High-Low Game!\n",
            "You will play 5 rounds.\n",
            "\n",
            "Round 1:\n",
            "Your number is: 70\n",
            "Do you think your number is (h)igher or (l)ower than the computer's? h\n",
            "Correct! The computer's number was 26. You get a point.\n",
            "\n",
            "Round 2:\n",
            "Your number is: 26\n",
            "Do you think your number is (h)igher or (l)ower than the computer's? l\n",
            "Correct! The computer's number was 36. You get a point.\n",
            "\n",
            "Round 3:\n",
            "Your number is: 67\n",
            "Do you think your number is (h)igher or (l)ower than the computer's? l\n",
            "Wrong! The computer's number was 5. No point this round.\n",
            "\n",
            "Round 4:\n",
            "Your number is: 53\n",
            "Do you think your number is (h)igher or (l)ower than the computer's? h\n",
            "Correct! The computer's number was 36. You get a point.\n",
            "\n",
            "Round 5:\n",
            "Your number is: 15\n",
            "Do you think your number is (h)igher or (l)ower than the computer's? l\n",
            "Correct! The computer's number was 79. You get a point.\n",
            "\n",
            "Game over! Your final score is: 4 out of 5\n"
          ]
        }
      ],
      "source": [
        "\n",
        "\n",
        "import random\n",
        "def high_low_game(rounds=5):\n",
        "    score = 0\n",
        "    print(\"Welcome to the High-Low Game!\")\n",
        "    print(f\"You will play {rounds} rounds.\\n\")\n",
        "\n",
        "    for round_num in range(1, rounds + 1):\n",
        "        player_num = random.randint(1, 100)\n",
        "        computer_num = random.randint(1, 100)\n",
        "\n",
        "        print(f\"Round {round_num}:\")\n",
        "        print(f\"Your number is: {player_num}\")\n",
        "        guess = input(\"Do you think your number is (h)igher or (l)ower than the computer's? \").strip().lower()\n",
        "\n",
        "        while guess not in ['h', 'l']:\n",
        "            guess = input(\"Please enter 'h' for higher or 'l' for lower: \").strip().lower()\n",
        "\n",
        "        if (guess == 'h' and player_num > computer_num) or (guess == 'l' and player_num < computer_num):\n",
        "            print(f\"Correct! The computer's number was {computer_num}. You get a point.\\n\")\n",
        "            score += 1\n",
        "        else:\n",
        "            print(f\"Wrong! The computer's number was {computer_num}. No point this round.\\n\")\n",
        "\n",
        "    print(f\"Game over! Your final score is: {score} out of {rounds}\")\n",
        "\n",
        "# Run the game\n",
        "high_low_game()\n"
      ]
    },
    {
      "cell_type": "markdown",
      "metadata": {
        "id": "hMxt2lzS9C4A"
      },
      "source": [
        "## **Problem: Planetary Weight Calculator**\n",
        "# Milestone #1: Mars **Weight**\n",
        "\n",
        "\n"
      ]
    },
    {
      "cell_type": "code",
      "execution_count": null,
      "metadata": {
        "id": "u9E54fI67A6G",
        "colab": {
          "base_uri": "https://localhost:8080/"
        },
        "outputId": "296d48a5-7609-4395-baf1-d62613fa4f46"
      },
      "outputs": [
        {
          "output_type": "stream",
          "name": "stdout",
          "text": [
            "Welcome to the Mars Weight Calculator!\n",
            "Enter your weight on Earth (in kg): 65\n",
            "Your weight on Mars would be: 24.57 kg\n"
          ]
        }
      ],
      "source": [
        "def weight_on_mars():\n",
        "    print(\"Welcome to the Mars Weight Calculator!\")\n",
        "    try:\n",
        "        earth_weight = float(input(\"Enter your weight on Earth (in kg): \"))\n",
        "        mars_weight = earth_weight * 0.378\n",
        "        print(f\"Your weight on Mars would be: {round(mars_weight, 2)} kg\")\n",
        "    except ValueError:\n",
        "        print(\"Please enter a valid number for your weight.\")\n",
        "\n",
        "# Run the function\n",
        "weight_on_mars()\n"
      ]
    },
    {
      "cell_type": "markdown",
      "metadata": {
        "id": "Jq93tWDO_GAv"
      },
      "source": [
        "# Milestone #2: Adding in All Planets"
      ]
    },
    {
      "cell_type": "markdown",
      "metadata": {
        "id": "Ekl2cf8C-sMW"
      },
      "source": [
        "#"
      ]
    },
    {
      "cell_type": "markdown",
      "metadata": {
        "id": "WZ09hqK6D1h_"
      },
      "source": [
        "# **Problem #1: List Practice**"
      ]
    },
    {
      "cell_type": "code",
      "execution_count": null,
      "metadata": {
        "colab": {
          "background_save": true
        },
        "id": "__FAn_wCCAA6",
        "outputId": "0957a7ef-4245-464f-99d8-94baaea8f3ed"
      },
      "outputs": [
        {
          "name": "stdout",
          "output_type": "stream",
          "text": [
            "Welcome to the Interplanetary Weight Calculator!\n",
            "Available planets:\n",
            "- Mercury\n",
            "- Venus\n",
            "- Mars\n",
            "- Jupiter\n",
            "- Saturn\n",
            "- Uranus\n",
            "- Neptune\n"
          ]
        }
      ],
      "source": [
        "def weight_on_planet():\n",
        "    print(\"Welcome to the Interplanetary Weight Calculator!\")\n",
        "\n",
        "    # Dictionary of gravitational constants\n",
        "    gravity_constants = {\n",
        "        \"Mercury\": 0.376,\n",
        "        \"Venus\": 0.889,\n",
        "        \"Mars\": 0.378,\n",
        "        \"Jupiter\": 2.36,\n",
        "        \"Saturn\": 1.081,\n",
        "        \"Uranus\": 0.815,\n",
        "        \"Neptune\": 1.14\n",
        "    }\n",
        "\n",
        "    # Show available planets\n",
        "    print(\"Available planets:\")\n",
        "    for planet in gravity_constants:\n",
        "        print(f\"- {planet}\")\n",
        "\n",
        "    try:\n",
        "        earth_weight = float(input(\"\\nEnter your weight on Earth (in kg): \"))\n",
        "        planet = input(\"Enter the name of a planet from the list above: \")\n",
        "\n",
        "        if planet in gravity_constants:\n",
        "            planet_weight = earth_weight * gravity_constants[planet]\n",
        "            print(f\"\\nYour weight on {planet} would be: {round(planet_weight, 2)} kg\")\n",
        "        else:\n",
        "            print(\"\\nThat planet is not in the list.\")\n",
        "\n",
        "    except ValueError:\n",
        "        print(\"\\nPlease enter a valid number for your weight.\")\n",
        "\n",
        "# Run the function\n",
        "weight_on_planet()\n"
      ]
    },
    {
      "cell_type": "code",
      "execution_count": null,
      "metadata": {
        "id": "SEMerqjNER5y"
      },
      "outputs": [],
      "source": [
        "def main():\n",
        "    # Create a list called fruit_list that contains the following fruits:\n",
        "    # 'apple', 'banana', 'orange', 'grape', 'pineapple'.\n",
        "    fruit_list = ['apple', 'banana', 'orange', 'grape', 'pineapple']\n",
        "\n",
        "    # Print the length of the list.\n",
        "    print(\"Length of the list:\", len(fruit_list))\n",
        "\n",
        "    # Add 'mango' at the end of the list.\n",
        "    fruit_list.append('mango')\n",
        "\n",
        "    # Print the updated list.\n",
        "    print(\"Updated fruit list:\", fruit_list)\n",
        "\n",
        "# Call the function to run it\n",
        "main()\n"
      ]
    },
    {
      "cell_type": "markdown",
      "metadata": {
        "id": "3AdOH43AFR3f"
      },
      "source": [
        "# **Problem #2: Index Game**\n"
      ]
    },
    {
      "cell_type": "code",
      "execution_count": null,
      "metadata": {
        "id": "pfe6hGOMKsDI"
      },
      "outputs": [],
      "source": [
        "  #Access an element\n",
        "def access_element(lst, index):\n",
        "    if 0 <= index < len(lst):\n",
        "        return lst[index]\n",
        "    else:\n",
        "        return \"Index out of range.\"\n",
        "\n",
        "# Modify an element\n",
        "def modify_element(lst, index, new_value):\n",
        "    if 0 <= index < len(lst):\n",
        "        lst[index] = new_value\n",
        "        return lst\n",
        "    else:\n",
        "        return \"Index out of range.\"\n",
        "\n",
        "# Slice the list\n",
        "def slice_list(lst, start, end):\n",
        "    return lst[start:end]\n",
        "\n",
        "# Example usage\n",
        "my_list = [1, 2, 3, 4, 5]\n",
        "\n",
        "print(access_element(my_list, 2))  # Output: 3\n",
        "print(modify_element(my_list, 2, 10))  # Output: [1, 2, 10, 4, 5]\n",
        "print(slice_list(my_list, 1, 3))  # Output: [2, 10]\n"
      ]
    },
    {
      "cell_type": "code",
      "execution_count": null,
      "metadata": {
        "id": "vJfGLl3DL8C0"
      },
      "outputs": [],
      "source": [
        "def index_game():\n",
        "    my_list = ['apple', 'banana', 'cherry', 'date', 'elderberry']\n",
        "\n",
        "    print(\"🍓 Welcome to the Index Game!\")\n",
        "    print(\"Your list:\", my_list)\n",
        "\n",
        "    action = input(\"What would you like to do? (access / modify / slice): \").lower()\n",
        "\n",
        "    if action == \"access\":\n",
        "        index = int(input(\"Enter the index you want to access: \"))\n",
        "        result = access_element(my_list, index)\n",
        "        print(\"Result:\", result)\n",
        "\n",
        "    elif action == \"modify\":\n",
        "        index = int(input(\"Enter the index you want to modify: \"))\n",
        "        new_value = input(\"Enter the new value: \")\n",
        "        result = modify_element(my_list, index, new_value)\n",
        "        print(\"Updated list:\", result)\n",
        "\n",
        "    elif action == \"slice\":\n",
        "        start = int(input(\"Enter the start index: \"))\n",
        "        end = int(input(\"Enter the end index: \"))\n",
        "        result = slice_list(my_list, start, end)\n",
        "        print(\"Sliced list:\", result)\n",
        "\n",
        "    else:\n",
        "        print(\"Invalid action. Please choose 'access', 'modify', or 'slice'.\")\n",
        "\n"
      ]
    },
    {
      "cell_type": "code",
      "execution_count": null,
      "metadata": {
        "id": "4xJvrb0z7gsV"
      },
      "outputs": [],
      "source": [
        "# simple Mad Libs project in Python:\n",
        "\n",
        "\n",
        "# Get user input\n",
        "print(\"Welcome to Mad Libs! Please provide the following:\")\n",
        "\n",
        "name = input(\"Enter a name: \")\n",
        "adjective1 = input(\"Enter an adjective: \")\n",
        "adjective2 = input(\"Enter another adjective: \")\n",
        "adjective3 = input(\"Enter one more adjective: \")\n",
        "place = input(\"Enter a place: \")\n",
        "food = input(\"Enter a type of food: \")\n",
        "\n",
        "# Create the story\n",
        "story = f\"\"\"\n",
        "Once upon a time, {name} was walking through the {adjective1} forest.\n",
        "They stumbled upon a {adjective2} cave and decided to explore it.\n",
        "Inside, they found a treasure trove filled with {adjective3} jewels and {food}.\n",
        "{name} was overjoyed and decided to take some {food} back to {place}.\n",
        "\"\"\"\n",
        "\n",
        "# Print the story\n",
        "print(\"\\nHere's your Mad Libs story:\")\n",
        "print(story)\n"
      ]
    },
    {
      "cell_type": "code",
      "execution_count": null,
      "metadata": {
        "id": "BSAp00iI8_R-"
      },
      "outputs": [],
      "source": [
        "print (\"hello\")"
      ]
    }
  ],
  "metadata": {
    "colab": {
      "toc_visible": true,
      "provenance": [],
      "authorship_tag": "ABX9TyMgD9V3M+m9uvYEENgVTRit",
      "include_colab_link": true
    },
    "kernelspec": {
      "display_name": "Python 3",
      "name": "python3"
    },
    "language_info": {
      "name": "python"
    }
  },
  "nbformat": 4,
  "nbformat_minor": 0
}