{
  "nbformat": 4,
  "nbformat_minor": 0,
  "metadata": {
    "colab": {
      "provenance": [],
      "authorship_tag": "ABX9TyN+AeOgJR7WKDcCCxxCEvHC",
      "include_colab_link": true
    },
    "kernelspec": {
      "name": "python3",
      "display_name": "Python 3"
    },
    "language_info": {
      "name": "python"
    }
  },
  "cells": [
    {
      "cell_type": "markdown",
      "metadata": {
        "id": "view-in-github",
        "colab_type": "text"
      },
      "source": [
        "<a href=\"https://colab.research.google.com/github/sumeraali2009/-Python-assignment-4/blob/main/madlib_To_PW_generator.ipynb\" target=\"_parent\"><img src=\"https://colab.research.google.com/assets/colab-badge.svg\" alt=\"Open In Colab\"/></a>"
      ]
    },
    {
      "cell_type": "code",
      "execution_count": null,
      "metadata": {
        "id": "9EyebcFhayib"
      },
      "outputs": [],
      "source": []
    },
    {
      "cell_type": "markdown",
      "source": [
        "Project1: Madlibs Python project\n"
      ],
      "metadata": {
        "id": "ULMxHouda_xW"
      }
    },
    {
      "cell_type": "code",
      "source": [
        "\n",
        "print(\"Welcome to Mad Libs! Please provide the following words:\")\n",
        "\n",
        "noun = input(\"Noun: \")\n",
        "adjective = input(\"Adjective: \")\n",
        "verb = input(\"Verb (e.g., running, dancing): \")\n",
        "place = input(\"Place: \")\n",
        "name = input(\"Name: \")\n",
        "\n",
        "story = f\"One day, {name} was walking through the {place} when they saw a {adjective} {noun}. They were so surprised that they started {verb}!\"\n",
        "\n",
        "print(\"\\nHere's your Mad Libs story:\")\n",
        "print(story)\n"
      ],
      "metadata": {
        "colab": {
          "base_uri": "https://localhost:8080/"
        },
        "id": "N-9rXjQbbLAw",
        "outputId": "42470d52-aeb9-4d6a-d371-b782d8818b36"
      },
      "execution_count": null,
      "outputs": [
        {
          "output_type": "stream",
          "name": "stdout",
          "text": [
            "Welcome to Mad Libs! Please provide the following words:\n",
            "Noun: cell\n",
            "Adjective: large\n",
            "Verb (e.g., running, dancing): playing\n",
            "Place: home\n",
            "Name: ali\n",
            "\n",
            "Here's your Mad Libs story:\n",
            "One day, ali was walking through the home when they saw a large cell. They were so surprised that they started playing!\n"
          ]
        }
      ]
    },
    {
      "cell_type": "markdown",
      "source": [],
      "metadata": {
        "id": "m1JEZiASd9_1"
      }
    },
    {
      "cell_type": "markdown",
      "source": [
        "Guess the Number Game Python Project (computer)"
      ],
      "metadata": {
        "id": "fi1eTNPseHO3"
      }
    },
    {
      "cell_type": "code",
      "source": [
        "\n",
        "import random\n",
        "\n",
        "def guess_the_number():\n",
        "    number_to_guess = random.randint(1, 100)\n",
        "    attempts = 0\n",
        "\n",
        "    print(\"Welcome to Guess the Number Game!\")\n",
        "    print(\"I'm thinking of a number between 1 and 100.\")\n",
        "\n",
        "    while True:\n",
        "        try:\n",
        "            user_guess = int(input(\"Take a guess: \"))\n",
        "            attempts += 1\n",
        "\n",
        "            if user_guess < number_to_guess:\n",
        "                print(\"Too low!\")\n",
        "            elif user_guess > number_to_guess:\n",
        "                print(\"Too high!\")\n",
        "            else:\n",
        "                print(f\"Congratulations! You found the number in {attempts} attempts.\")\n",
        "                break\n",
        "        except ValueError:\n",
        "            print(\"Invalid input. Please enter a number.\")\n",
        "\n",
        "if __name__ == \"__main__\":\n",
        "    guess_the_number()\n"
      ],
      "metadata": {
        "colab": {
          "base_uri": "https://localhost:8080/"
        },
        "id": "n6f5A9FRchj_",
        "outputId": "7a59ccd3-8f47-452f-f1a5-dec082855fd6"
      },
      "execution_count": null,
      "outputs": [
        {
          "output_type": "stream",
          "name": "stdout",
          "text": [
            "Welcome to Guess the Number Game!\n",
            "I'm thinking of a number between 1 and 100.\n",
            "Take a guess: 50\n",
            "Too low!\n",
            "Take a guess: 70\n",
            "Too low!\n",
            "Take a guess: 98\n",
            "Too high!\n",
            "Take a guess: 90\n",
            "Too high!\n",
            "Take a guess: 85\n",
            "Too high!\n",
            "Take a guess: 80\n",
            "Too high!\n",
            "Take a guess: 76\n",
            "Too low!\n",
            "Take a guess: 78\n",
            "Too high!\n",
            "Take a guess: 77\n",
            "Congratulations! You found the number in 9 attempts.\n"
          ]
        }
      ]
    },
    {
      "cell_type": "code",
      "source": [],
      "metadata": {
        "id": "79uQXZCTiQtq"
      },
      "execution_count": null,
      "outputs": []
    },
    {
      "cell_type": "markdown",
      "source": [
        "Guess the Number Game Python Project (user)\n",
        "\n"
      ],
      "metadata": {
        "id": "uhraxErdcVMn"
      }
    },
    {
      "cell_type": "code",
      "source": [
        "\n",
        "import random\n",
        "\n",
        "number_to_guess = random.randint(1, 100)\n",
        "attempts = 0\n",
        "\n",
        "print(\"Think of a number between 1 and 100. I'll try to guess it.\")\n",
        "\n",
        "while True:\n",
        "    try:\n",
        "        computer_guess = random.randint(1, 100)\n",
        "        print(f\"My guess is: {computer_guess}\")\n",
        "\n",
        "        user_response = input(\"Is your number (h)igher, (l)ower, or is my guess (c)orrect? \")\n",
        "\n",
        "        attempts += 1\n",
        "\n",
        "        if user_response.lower() == \"h\":\n",
        "            number_to_guess = random.randint(computer_guess + 1, 100)\n",
        "        elif user_response.lower() == \"l\":\n",
        "            number_to_guess = random.randint(1, computer_guess - 1)\n",
        "        elif user_response.lower() == \"c\":\n",
        "            print(f\"Yay! I guessed the number in {attempts} attempts.\")\n",
        "            break\n",
        "        else:\n",
        "            print(\"Invalid input. Please enter h, l, or c.\")\n",
        "    except ValueError:\n",
        "        print(\"Error occurred.\")\n"
      ],
      "metadata": {
        "id": "PCPrzMxGetlG",
        "colab": {
          "base_uri": "https://localhost:8080/"
        },
        "outputId": "b72a87f1-9e0f-479b-e783-df92a9046a51"
      },
      "execution_count": null,
      "outputs": [
        {
          "output_type": "stream",
          "name": "stdout",
          "text": [
            "Think of a number between 1 and 100. I'll try to guess it.\n",
            "My guess is: 53\n",
            "Is your number (h)igher, (l)ower, or is my guess (c)orrect? h\n",
            "My guess is: 39\n",
            "Is your number (h)igher, (l)ower, or is my guess (c)orrect? h\n",
            "My guess is: 34\n",
            "Is your number (h)igher, (l)ower, or is my guess (c)orrect? h\n",
            "My guess is: 63\n",
            "Is your number (h)igher, (l)ower, or is my guess (c)orrect? c\n",
            "Yay! I guessed the number in 4 attempts.\n"
          ]
        }
      ]
    },
    {
      "cell_type": "markdown",
      "source": [
        "Rock, paper, scissors Python Project\n"
      ],
      "metadata": {
        "id": "dtRYJwo_f42e"
      }
    },
    {
      "cell_type": "code",
      "source": [
        "\n",
        "import random\n",
        "\n",
        "def rock_paper_scissors():\n",
        "    while True:\n",
        "        user_choice = input(\"Enter a choice (rock, paper, scissors): \").lower()\n",
        "        while user_choice not in [\"rock\", \"paper\", \"scissors\"]:\n",
        "            user_choice = input(\"Invalid input. Enter a choice (rock, paper, scissors): \").lower()\n",
        "\n",
        "        possible_choices = [\"rock\", \"paper\", \"scissors\"]\n",
        "        computer_choice = random.choice(possible_choices)\n",
        "        print(f\"\\nUser chose {user_choice}, computer chose {computer_choice}.\\n\")\n",
        "\n",
        "        if user_choice == computer_choice:\n",
        "            print(f\"Both players selected {user_choice}. It's a tie!\")\n",
        "        elif user_choice == \"rock\":\n",
        "            if computer_choice == \"scissors\":\n",
        "                print(\"Rock smashes scissors! User wins!\")\n",
        "            else:\n",
        "                print(\"Paper covers rock! Computer wins.\")\n",
        "        elif user_choice == \"paper\":\n",
        "            if computer_choice == \"rock\":\n",
        "                print(\"Paper covers rock! User wins!\")\n",
        "            else:\n",
        "                print(\"Scissors cuts paper! Computer wins.\")\n",
        "        elif user_choice == \"scissors\":\n",
        "            if computer_choice == \"paper\":\n",
        "                print(\"Scissors cuts paper! User wins!\")\n",
        "            else:\n",
        "                print(\"Rock smashes scissors! Computer wins.\")\n",
        "\n",
        "        play_again = input(\"Play again? (yes/no): \").lower()\n",
        "        while play_again not in [\"yes\", \"no\"]:\n",
        "            play_again = input(\"Invalid input. Play again? (yes/no): \").lower()\n",
        "        if play_again != \"yes\":\n",
        "            break\n",
        "\n",
        "rock_paper_scissors()\n"
      ],
      "metadata": {
        "colab": {
          "base_uri": "https://localhost:8080/"
        },
        "id": "c6AhJMAXf--2",
        "outputId": "a29988aa-16d4-49a3-8b8f-b75480690d7c"
      },
      "execution_count": null,
      "outputs": [
        {
          "name": "stdout",
          "output_type": "stream",
          "text": [
            "Enter a choice (rock, paper, scissors): rock\n",
            "\n",
            "User chose rock, computer chose rock.\n",
            "\n",
            "Both players selected rock. It's a tie!\n",
            "Play again? (yes/no): paper\n",
            "Invalid input. Play again? (yes/no): no\n"
          ]
        }
      ]
    },
    {
      "cell_type": "markdown",
      "source": [
        "Hangman Python Project"
      ],
      "metadata": {
        "id": "23f5Ej2nc_wR"
      }
    },
    {
      "cell_type": "code",
      "source": [
        "\n",
        "import random\n",
        "\n",
        "HANGMAN_PICS = ['''\n",
        "  +---+\n",
        "  |   |\n",
        "      |\n",
        "      |\n",
        "      |\n",
        "      |\n",
        "=========''', '''\n",
        "  +---+\n",
        "  |   |\n",
        "  O   |\n",
        "      |\n",
        "      |\n",
        "      |\n",
        "=========''', '''\n",
        "  +---+\n",
        "  |   |\n",
        "  O   |\n",
        "  |   |\n",
        "      |\n",
        "      |\n",
        "=========''', '''\n",
        "  +---+\n",
        "  |   |\n",
        "  O   |\n",
        " /|   |\n",
        "      |\n",
        "      |\n",
        "=========''', '''\n",
        "  +---+\n",
        "  |   |\n",
        "  O   |\n",
        " /|\\  |\n",
        "      |\n",
        "      |\n",
        "=========''', '''\n",
        "  +---+\n",
        "  |   |\n",
        "  O   |\n",
        " /|\\  |\n",
        " /    |\n",
        "      |\n",
        "=========''', '''\n",
        "  +---+\n",
        "  |   |\n",
        "  O   |\n",
        " /|\\  |\n",
        " / \\  |\n",
        "      |\n",
        "=========''']\n",
        "\n",
        "words = 'ant baboon badger bat bear beaver camel cat clam cobra cougar coyote crow deer dog donkey duck eagle ferret fox frog goat goose hawk lion lizard llama mole monkey moose mouse mule newt otter owl panda parrot pigeon python rabbit ram rat raven rhino salmon seal shark sheep skunk sloth snake spider stork swan tiger toad trout turkey turtle weasel whale wolf wombat zebra'.split()\n",
        "\n",
        "def getRandomWord(wordList):\n",
        "    wordIndex = random.randint(0, len(wordList) - 1)\n",
        "    return wordList[wordIndex]\n",
        "\n",
        "def displayBoard(HANGMAN_PICS, missedLetters, correctLetters, secretWord):\n",
        "    print(HANGMAN_PICS[len(missedLetters)])\n",
        "    print()\n",
        "\n",
        "    print('Missed letters:', end=' ')\n",
        "    for letter in missedLetters:\n",
        "        print(letter, end=' ')\n",
        "    print()\n",
        "\n",
        "    blanks = '_' * len(secretWord)\n",
        "\n",
        "    for i in range(len(secretWord)):\n",
        "        if secretWord[i] in correctLetters:\n",
        "            blanks = blanks[:i] + secretWord[i] + blanks[i+1:]\n",
        "\n",
        "    for letter in blanks:\n",
        "        print(letter, end=' ')\n",
        "    print()\n",
        "\n",
        "def getGuess(alreadyGuessed):\n",
        "    while True:\n",
        "        guess = input('Guess a letter.').lower()\n",
        "        if len(guess) != 1:\n",
        "            print('Please enter a single letter.')\n",
        "        elif guess in alreadyGuessed:\n",
        "            print('You have already guessed that letter. Choose again.')\n",
        "        elif guess not in 'abcdefghijklmnopqrstuvwxyz':\n",
        "            print('Please enter a LETTER.')\n",
        "        else:\n",
        "            return guess\n",
        "\n",
        "def playAgain():\n",
        "    print('Do you want to play again? (yes or no)')\n",
        "    return input().lower().startswith('y')\n",
        "\n",
        "try:\n",
        "    print('H A N G M A N')\n",
        "    missedLetters = ''\n",
        "    correctLetters = ''\n",
        "    secretWord = getRandomWord(words)\n",
        "    gameIsDone = False\n",
        "\n",
        "    while True:\n",
        "        displayBoard(HANGMAN_PICS, missedLetters, correctLetters, secretWord)\n",
        "\n",
        "        guess = getGuess(missedLetters + correctLetters)\n",
        "\n",
        "        if guess in secretWord:\n",
        "            correctLetters = correctLetters + guess\n",
        "\n",
        "            foundAllLetters = True\n",
        "            for i in range(len(secretWord)):\n",
        "                if secretWord[i] not in correctLetters:\n",
        "                    foundAllLetters = False\n",
        "                    break\n",
        "            if foundAllLetters:\n",
        "                print('Yes! The secret word is \"' + secretWord + '\"! You have won!')\n",
        "                gameIsDone = True\n",
        "        else:\n",
        "            missedLetters = missedLetters + guess\n",
        "\n",
        "            if len(missedLetters) == len(HANGMAN_PICS) - 1:\n",
        "                displayBoard(HANGMAN_PICS, missedLetters, correctLetters, secretWord)\n",
        "                print('You have run out of guesses!\\nAfter ' + str(len(missedLetters)) + ' missed guesses and ' + str(len(correctLetters)) + ' correct guesses, the word was \"' + secretWord + '\"')\n",
        "                gameIsDone = True\n",
        "\n",
        "        if gameIsDone:\n",
        "            if playAgain():\n",
        "                missedLetters = ''\n",
        "                correctLetters = ''\n",
        "                gameIsDone = False\n",
        "                secretWord = getRandomWord(words)\n",
        "            else:\n",
        "                break\n",
        "except KeyboardInterrupt:\n",
        "    print(\"\\nGame interrupted. Goodbye!\")\n"
      ],
      "metadata": {
        "colab": {
          "base_uri": "https://localhost:8080/"
        },
        "id": "p6B-3-7So9WJ",
        "outputId": "16b1a6dc-1251-405e-aab2-0e1f12610897"
      },
      "execution_count": null,
      "outputs": [
        {
          "output_type": "stream",
          "name": "stdout",
          "text": [
            "H A N G M A N\n",
            "\n",
            "  +---+\n",
            "  |   |\n",
            "      |\n",
            "      |\n",
            "      |\n",
            "      |\n",
            "=========\n",
            "\n",
            "Missed letters: \n",
            "_ _ _ _ _ _ \n",
            "Guess a letter.a\n",
            "\n",
            "  +---+\n",
            "  |   |\n",
            "      |\n",
            "      |\n",
            "      |\n",
            "      |\n",
            "=========\n",
            "\n",
            "Missed letters: \n",
            "_ _ a _ _ _ \n",
            "Guess a letter.t\n",
            "\n",
            "  +---+\n",
            "  |   |\n",
            "  O   |\n",
            "      |\n",
            "      |\n",
            "      |\n",
            "=========\n",
            "\n",
            "Missed letters: t \n",
            "_ _ a _ _ _ \n",
            "Guess a letter.i\n",
            "\n",
            "  +---+\n",
            "  |   |\n",
            "  O   |\n",
            "  |   |\n",
            "      |\n",
            "      |\n",
            "=========\n",
            "\n",
            "Missed letters: t i \n",
            "_ _ a _ _ _ \n",
            "Guess a letter.r\n",
            "\n",
            "  +---+\n",
            "  |   |\n",
            "  O   |\n",
            "  |   |\n",
            "      |\n",
            "      |\n",
            "=========\n",
            "\n",
            "Missed letters: t i \n",
            "_ _ a _ _ r \n",
            "Guess a letter.k\n",
            "\n",
            "  +---+\n",
            "  |   |\n",
            "  O   |\n",
            " /|   |\n",
            "      |\n",
            "      |\n",
            "=========\n",
            "\n",
            "Missed letters: t i k \n",
            "_ _ a _ _ r \n",
            "Guess a letter.h\n",
            "\n",
            "  +---+\n",
            "  |   |\n",
            "  O   |\n",
            " /|\\  |\n",
            "      |\n",
            "      |\n",
            "=========\n",
            "\n",
            "Missed letters: t i k h \n",
            "_ _ a _ _ r \n",
            "Guess a letter.p\n",
            "\n",
            "  +---+\n",
            "  |   |\n",
            "  O   |\n",
            " /|\\  |\n",
            " /    |\n",
            "      |\n",
            "=========\n",
            "\n",
            "Missed letters: t i k h p \n",
            "_ _ a _ _ r \n",
            "Guess a letter.e\n",
            "\n",
            "  +---+\n",
            "  |   |\n",
            "  O   |\n",
            " /|\\  |\n",
            " /    |\n",
            "      |\n",
            "=========\n",
            "\n",
            "Missed letters: t i k h p \n",
            "_ e a _ e r \n",
            "Guess a letter.t\n",
            "You have already guessed that letter. Choose again.\n",
            "Guess a letter.w\n",
            "\n",
            "  +---+\n",
            "  |   |\n",
            "  O   |\n",
            " /|\\  |\n",
            " / \\  |\n",
            "      |\n",
            "=========\n",
            "\n",
            "Missed letters: t i k h p w \n",
            "_ e a _ e r \n",
            "You have run out of guesses!\n",
            "After 6 missed guesses and 3 correct guesses, the word was \"beaver\"\n",
            "Do you want to play again? (yes or no)\n",
            "\n",
            "Game interrupted. Goodbye!\n"
          ]
        }
      ]
    },
    {
      "cell_type": "code",
      "source": [
        "\n",
        "import time\n",
        "\n",
        "def countdown(t):\n",
        "    while t:\n",
        "        mins, secs = divmod(t, 60)\n",
        "        timer = '{:02d}:{:02d}'.format(mins, secs)\n",
        "        print(timer, end=\"\\r\")\n",
        "        time.sleep(1)\n",
        "        t -= 1\n",
        "    print('Time Up!!')\n",
        "\n",
        "t = input(\"Enter the time in seconds: \")\n",
        "\n",
        "try:\n",
        "    t = int(t)\n",
        "    countdown(t)\n",
        "except ValueError:\n",
        "    print(\"Invalid input. Please enter a number.\")\n"
      ],
      "metadata": {
        "colab": {
          "base_uri": "https://localhost:8080/"
        },
        "id": "nZIoZ4yVg6bz",
        "outputId": "9951203e-7081-4a3b-967a-e9c2fde70556"
      },
      "execution_count": null,
      "outputs": [
        {
          "output_type": "stream",
          "name": "stdout",
          "text": [
            "Enter the time in seconds: 60\n",
            "Time Up!!\n"
          ]
        }
      ]
    },
    {
      "cell_type": "markdown",
      "source": [
        "Password Generator Python Project"
      ],
      "metadata": {
        "id": "qcq4Oi7VjR7O"
      }
    },
    {
      "cell_type": "code",
      "source": [
        "\n",
        "import random\n",
        "import string\n",
        "\n",
        "def password_generator(length):\n",
        "    all_characters = string.ascii_letters + string.digits + string.punctuation\n",
        "    if length < 8:\n",
        "        print(\"Password length should be at least 8 characters.\")\n",
        "        return None\n",
        "    password = ''.join(random.choice(all_characters) for i in range(length))\n",
        "    return password\n",
        "\n",
        "while True:\n",
        "    try:\n",
        "        length = int(input(\"Enter the length of the password (min 8): \"))\n",
        "        if length < 8:\n",
        "            print(\"Password length should be at least 8 characters.\")\n",
        "            continue\n",
        "        print(\"Generated Password : \", password_generator(length))\n",
        "        break\n",
        "    except ValueError:\n",
        "        print(\"Invalid input. Please enter a number.\")"
      ],
      "metadata": {
        "colab": {
          "base_uri": "https://localhost:8080/"
        },
        "id": "NEqO0t5umoc2",
        "outputId": "d57a2e58-baa0-4daf-dfe2-d3f6a005fa6a"
      },
      "execution_count": null,
      "outputs": [
        {
          "output_type": "stream",
          "name": "stdout",
          "text": [
            "Enter the length of the password (min 8): 19\n",
            "Generated Password :  CoENt5Ra~(v147F3aRT\n"
          ]
        }
      ]
    }
  ]
}